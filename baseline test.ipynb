{
 "cells": [
  {
   "cell_type": "code",
   "execution_count": 1,
   "metadata": {},
   "outputs": [],
   "source": [
    "import torch\n",
    "import numpy as np\n",
    "import os\n",
    "import random\n",
    "from torchvision import transforms\n",
    "from model.residual_attention_network import ResidualAttentionModel_92_32input_update as ResidualAttentionModel\n",
    "\n",
    "def seed_everything(seed):\n",
    "    torch.manual_seed(seed)\n",
    "    torch.cuda.manual_seed(seed)\n",
    "    torch.cuda.manual_seed_all(seed)\n",
    "    torch.backends.cudnn.benchmark = False\n",
    "    torch.backends.cudnn.deterministic = True\n",
    "    random.seed(seed)\n",
    "    np.random.seed(seed)\n",
    "    os.environ['PYTHONHASHSEED'] = str(seed)\n",
    "\n",
    "seed_everything(42)"
   ]
  },
  {
   "cell_type": "code",
   "execution_count": 11,
   "metadata": {},
   "outputs": [
    {
     "name": "stdout",
     "output_type": "stream",
     "text": [
      "class: bird 1.0\n"
     ]
    }
   ],
   "source": [
    "from PIL import Image\n",
    "\n",
    "\n",
    "classes = ('plane', 'car', 'bird', 'cat',\n",
    "           'deer', 'dog', 'frog', 'horse', 'ship', 'truck')\n",
    "\n",
    "device = torch.device('cpu')\n",
    "model = ResidualAttentionModel() # 初始化模型\n",
    "model.to(device)\n",
    "\n",
    "def test_one_img(model, img_path,  model_file='./best_model.pth'):\n",
    "    # Test\n",
    "    transform_valid = transforms.Compose([transforms.Resize((32, 32)),\n",
    "                                          transforms.ToTensor()])\n",
    "    images = Image.open(img_path)\n",
    "    images = transform_valid(images).unsqueeze(0)  # 拓展维度\n",
    "\n",
    "    model.load_state_dict(torch.load(\n",
    "        model_file, map_location=torch.device('cpu')))\n",
    "    model.eval()\n",
    "\n",
    "    images = images.to(device)\n",
    "    outputs = model(images)\n",
    "    _, predicted = torch.max(outputs.data, 1)\n",
    "    proba = torch.max(torch.softmax(outputs.data, 1), 1)[0]\n",
    "    #\n",
    "    print('class:', classes[predicted[0]], round(float(proba), 3))\n",
    "\n",
    "# 修改这个path就行了,可以把找到的图片放到data/test下面，按照classes里面的类别找\n",
    "predict_path = './data/test/bird.jpg'\n",
    "test_one_img(model, predict_path)"
   ]
  },
  {
   "cell_type": "code",
   "execution_count": null,
   "metadata": {},
   "outputs": [],
   "source": []
  }
 ],
 "metadata": {
  "interpreter": {
   "hash": "3f31cdafcee8aa313d249a62a118f9dafafe7a3c4d7d99fbe10d547330ed6086"
  },
  "kernelspec": {
   "display_name": "Python 3.8.10 ('base')",
   "language": "python",
   "name": "python3"
  },
  "language_info": {
   "codemirror_mode": {
    "name": "ipython",
    "version": 3
   },
   "file_extension": ".py",
   "mimetype": "text/x-python",
   "name": "python",
   "nbconvert_exporter": "python",
   "pygments_lexer": "ipython3",
   "version": "3.8.10"
  },
  "orig_nbformat": 4
 },
 "nbformat": 4,
 "nbformat_minor": 2
}
